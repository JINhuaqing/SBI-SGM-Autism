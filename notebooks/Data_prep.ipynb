{
 "cells": [
  {
   "cell_type": "markdown",
   "id": "8f45b195",
   "metadata": {},
   "source": [
    "This file is to convert all-MEG-pkl (`data/MEG_DK_Atlas/Autism_MEG_all.pkl`) data to mat data.\n"
   ]
  },
  {
   "cell_type": "code",
   "execution_count": 1,
   "id": "4ccfde00",
   "metadata": {
    "ExecuteTime": {
     "end_time": "2023-02-06T02:44:28.442881Z",
     "start_time": "2023-02-06T02:44:28.430285Z"
    }
   },
   "outputs": [],
   "source": [
    "import sys\n",
    "sys.path.append(\"../mypkg\")"
   ]
  },
  {
   "cell_type": "code",
   "execution_count": 2,
   "id": "aaebfb40",
   "metadata": {
    "ExecuteTime": {
     "end_time": "2023-02-06T02:44:29.846524Z",
     "start_time": "2023-02-06T02:44:29.400168Z"
    }
   },
   "outputs": [],
   "source": [
    "import numpy, scipy.io\n",
    "from utils.misc import load_pkl, save_pkl\n",
    "from constants import DATA_ROOT\n",
    "import pandas as pd"
   ]
  },
  {
   "cell_type": "code",
   "execution_count": null,
   "id": "9112d3f5",
   "metadata": {},
   "outputs": [],
   "source": []
  },
  {
   "cell_type": "code",
   "execution_count": 3,
   "id": "feca5285",
   "metadata": {
    "ExecuteTime": {
     "end_time": "2023-02-06T02:44:32.120957Z",
     "start_time": "2023-02-06T02:44:32.116885Z"
    }
   },
   "outputs": [],
   "source": [
    "# data path\n",
    "all_MEG_data_path = DATA_ROOT/\"MEG_DK_Atlas/Autism_MEG_all.pkl\"\n",
    "data_info_path = DATA_ROOT/'Autism_Demopoulos_DiagnosisAgeSex.csv'"
   ]
  },
  {
   "cell_type": "code",
   "execution_count": 9,
   "id": "85aa0c47",
   "metadata": {
    "ExecuteTime": {
     "end_time": "2023-02-06T02:45:38.620000Z",
     "start_time": "2023-02-06T02:45:38.589764Z"
    }
   },
   "outputs": [
    {
     "data": {
      "text/html": [
       "<div>\n",
       "<style scoped>\n",
       "    .dataframe tbody tr th:only-of-type {\n",
       "        vertical-align: middle;\n",
       "    }\n",
       "\n",
       "    .dataframe tbody tr th {\n",
       "        vertical-align: top;\n",
       "    }\n",
       "\n",
       "    .dataframe thead th {\n",
       "        text-align: right;\n",
       "    }\n",
       "</style>\n",
       "<table border=\"1\" class=\"dataframe\">\n",
       "  <thead>\n",
       "    <tr style=\"text-align: right;\">\n",
       "      <th></th>\n",
       "      <th>ID</th>\n",
       "      <th>Diagnosis</th>\n",
       "      <th>Age</th>\n",
       "      <th>Sex</th>\n",
       "    </tr>\n",
       "  </thead>\n",
       "  <tbody>\n",
       "    <tr>\n",
       "      <th>0</th>\n",
       "      <td>2</td>\n",
       "      <td>1</td>\n",
       "      <td>12.416667</td>\n",
       "      <td>M</td>\n",
       "    </tr>\n",
       "    <tr>\n",
       "      <th>1</th>\n",
       "      <td>3</td>\n",
       "      <td>0</td>\n",
       "      <td>12.583333</td>\n",
       "      <td>F</td>\n",
       "    </tr>\n",
       "    <tr>\n",
       "      <th>2</th>\n",
       "      <td>4</td>\n",
       "      <td>0</td>\n",
       "      <td>11.000000</td>\n",
       "      <td>F</td>\n",
       "    </tr>\n",
       "    <tr>\n",
       "      <th>3</th>\n",
       "      <td>5</td>\n",
       "      <td>0</td>\n",
       "      <td>12.333333</td>\n",
       "      <td>M</td>\n",
       "    </tr>\n",
       "    <tr>\n",
       "      <th>4</th>\n",
       "      <td>6</td>\n",
       "      <td>1</td>\n",
       "      <td>16.166666</td>\n",
       "      <td>F</td>\n",
       "    </tr>\n",
       "    <tr>\n",
       "      <th>...</th>\n",
       "      <td>...</td>\n",
       "      <td>...</td>\n",
       "      <td>...</td>\n",
       "      <td>...</td>\n",
       "    </tr>\n",
       "    <tr>\n",
       "      <th>73</th>\n",
       "      <td>195</td>\n",
       "      <td>0</td>\n",
       "      <td>8.416667</td>\n",
       "      <td>F</td>\n",
       "    </tr>\n",
       "    <tr>\n",
       "      <th>74</th>\n",
       "      <td>204</td>\n",
       "      <td>0</td>\n",
       "      <td>11.166667</td>\n",
       "      <td>F</td>\n",
       "    </tr>\n",
       "    <tr>\n",
       "      <th>75</th>\n",
       "      <td>205</td>\n",
       "      <td>0</td>\n",
       "      <td>13.083333</td>\n",
       "      <td>M</td>\n",
       "    </tr>\n",
       "    <tr>\n",
       "      <th>76</th>\n",
       "      <td>223</td>\n",
       "      <td>1</td>\n",
       "      <td>14.666667</td>\n",
       "      <td>M</td>\n",
       "    </tr>\n",
       "    <tr>\n",
       "      <th>77</th>\n",
       "      <td>225</td>\n",
       "      <td>0</td>\n",
       "      <td>8.000000</td>\n",
       "      <td>F</td>\n",
       "    </tr>\n",
       "  </tbody>\n",
       "</table>\n",
       "<p>78 rows × 4 columns</p>\n",
       "</div>"
      ],
      "text/plain": [
       "     ID  Diagnosis        Age Sex\n",
       "0     2          1  12.416667   M\n",
       "1     3          0  12.583333   F\n",
       "2     4          0  11.000000   F\n",
       "3     5          0  12.333333   M\n",
       "4     6          1  16.166666   F\n",
       "..  ...        ...        ...  ..\n",
       "73  195          0   8.416667   F\n",
       "74  204          0  11.166667   F\n",
       "75  205          0  13.083333   M\n",
       "76  223          1  14.666667   M\n",
       "77  225          0   8.000000   F\n",
       "\n",
       "[78 rows x 4 columns]"
      ]
     },
     "execution_count": 9,
     "metadata": {},
     "output_type": "execute_result"
    }
   ],
   "source": [
    "data_info = pd.read_csv(data_info_path)\n",
    "data_info"
   ]
  },
  {
   "cell_type": "code",
   "execution_count": 5,
   "id": "db71da3a",
   "metadata": {
    "ExecuteTime": {
     "end_time": "2023-02-06T02:44:36.499626Z",
     "start_time": "2023-02-06T02:44:35.875741Z"
    }
   },
   "outputs": [
    {
     "name": "stdout",
     "output_type": "stream",
     "text": [
      "Load file /data/rajlab1/user_data/jin/MyResearch/SBI-SGM-Autism/notebooks/../mypkg/../data/MEG_DK_Atlas/Autism_MEG_all.pkl\n"
     ]
    }
   ],
   "source": [
    "all_MEG_data = load_pkl(all_MEG_data_path)"
   ]
  },
  {
   "cell_type": "code",
   "execution_count": 12,
   "id": "cfbc6dc2",
   "metadata": {
    "ExecuteTime": {
     "end_time": "2023-02-06T02:57:29.033265Z",
     "start_time": "2023-02-06T02:57:29.029260Z"
    }
   },
   "outputs": [],
   "source": [
    "save_all_MEG_data = {f\"data_{ix+1}\":all_MEG_data[ix, :, :] for ix in range(78)}"
   ]
  },
  {
   "cell_type": "code",
   "execution_count": 13,
   "id": "a624a019",
   "metadata": {
    "ExecuteTime": {
     "end_time": "2023-02-06T02:58:01.190966Z",
     "start_time": "2023-02-06T02:57:43.963918Z"
    }
   },
   "outputs": [],
   "source": [
    "scipy.io.savemat(DATA_ROOT/'Autism_MEG_all.mat', mdict=save_all_MEG_data)"
   ]
  },
  {
   "cell_type": "code",
   "execution_count": null,
   "id": "5a5accca",
   "metadata": {},
   "outputs": [],
   "source": []
  }
 ],
 "metadata": {
  "kernelspec": {
   "display_name": "Python 3 (ipykernel)",
   "language": "python",
   "name": "python3"
  },
  "language_info": {
   "codemirror_mode": {
    "name": "ipython",
    "version": 3
   },
   "file_extension": ".py",
   "mimetype": "text/x-python",
   "name": "python",
   "nbconvert_exporter": "python",
   "pygments_lexer": "ipython3",
   "version": "3.9.7"
  },
  "toc": {
   "base_numbering": 1,
   "nav_menu": {},
   "number_sections": true,
   "sideBar": true,
   "skip_h1_title": false,
   "title_cell": "Table of Contents",
   "title_sidebar": "Contents",
   "toc_cell": false,
   "toc_position": {},
   "toc_section_display": true,
   "toc_window_display": false
  }
 },
 "nbformat": 4,
 "nbformat_minor": 5
}
