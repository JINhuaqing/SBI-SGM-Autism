{
 "cells": [
  {
   "cell_type": "markdown",
   "id": "0bc457b2",
   "metadata": {},
   "source": [
    "This file is to save the result for Farras"
   ]
  },
  {
   "cell_type": "code",
   "execution_count": null,
   "id": "eceb0190",
   "metadata": {},
   "outputs": [],
   "source": []
  },
  {
   "cell_type": "markdown",
   "id": "15b93230",
   "metadata": {},
   "source": [
    "## Import some pkgs"
   ]
  },
  {
   "cell_type": "code",
   "execution_count": 1,
   "id": "a5c4bef0",
   "metadata": {
    "ExecuteTime": {
     "end_time": "2023-01-07T03:16:31.800991Z",
     "start_time": "2023-01-07T03:16:29.930636Z"
    }
   },
   "outputs": [],
   "source": [
    "import sys\n",
    "sys.path.append(\"../../mypkg\")\n",
    "\n",
    "import scipy\n",
    "import itertools\n",
    "\n",
    "import numpy as np\n",
    "import xarray as xr\n",
    "import matplotlib.pyplot as plt\n",
    "import seaborn as sns\n",
    "\n",
    "from tqdm import trange\n",
    "from scipy.io import loadmat\n",
    "from functools import partial\n",
    "from easydict import EasyDict as edict\n",
    "\n",
    "#plt.style.use('ggplot')\n",
    "plt.rcParams[\"savefig.bbox\"] = \"tight\""
   ]
  },
  {
   "cell_type": "code",
   "execution_count": 2,
   "id": "129d24a5",
   "metadata": {
    "ExecuteTime": {
     "end_time": "2023-01-07T03:16:39.032076Z",
     "start_time": "2023-01-07T03:16:31.803810Z"
    }
   },
   "outputs": [],
   "source": [
    "# SBI and torch\n",
    "from sbi.inference.base import infer\n",
    "from sbi.inference import SNPE, prepare_for_sbi, simulate_for_sbi\n",
    "from sbi import analysis\n",
    "from sbi.utils.get_nn_models import posterior_nn\n",
    "from sbi import utils as sutils\n",
    "\n",
    "import torch.nn as nn\n",
    "import torch.nn.functional as F\n",
    "import torch\n",
    "from torch.distributions.multivariate_normal import MultivariateNormal"
   ]
  },
  {
   "cell_type": "code",
   "execution_count": 3,
   "id": "513f09d5",
   "metadata": {
    "ExecuteTime": {
     "end_time": "2023-01-07T03:16:39.625501Z",
     "start_time": "2023-01-07T03:16:39.034934Z"
    }
   },
   "outputs": [],
   "source": [
    "# my own fns\n",
    "from brain import Brain\n",
    "from FC_utils import build_fc_freq_m\n",
    "from constants import RES_ROOT, DATA_ROOT\n",
    "from utils.misc import load_pkl, save_pkl\n",
    "from utils.reparam import theta_raw_2out, logistic_np, logistic_torch\n",
    "from utils.stable import paras_table_check"
   ]
  },
  {
   "cell_type": "code",
   "execution_count": null,
   "id": "d5b87c78",
   "metadata": {
    "ExecuteTime": {
     "end_time": "2022-11-08T00:03:09.655902Z",
     "start_time": "2022-11-08T00:03:09.466344Z"
    }
   },
   "outputs": [],
   "source": []
  },
  {
   "cell_type": "markdown",
   "id": "820f27bd",
   "metadata": {},
   "source": [
    "## Some fns"
   ]
  },
  {
   "cell_type": "code",
   "execution_count": 4,
   "id": "81762f84",
   "metadata": {
    "ExecuteTime": {
     "end_time": "2023-01-07T03:16:39.635733Z",
     "start_time": "2023-01-07T03:16:39.631181Z"
    }
   },
   "outputs": [],
   "source": [
    "_minmax_vec = lambda x: (x-np.min(x))/(np.max(x)-np.min(x))"
   ]
  },
  {
   "cell_type": "code",
   "execution_count": 5,
   "id": "966b1317",
   "metadata": {
    "ExecuteTime": {
     "end_time": "2023-01-07T03:16:39.717127Z",
     "start_time": "2023-01-07T03:16:39.638522Z"
    }
   },
   "outputs": [],
   "source": [
    "def _simulate_data_mulbands(raw_params, brain, prior_bds, freqranges):\n",
    "    params = []\n",
    "    for raw_param, prior_bd in zip(raw_params, prior_bds):\n",
    "        param =  _map_fn_torch(raw_param)*(prior_bd[1]-prior_bd[0]) + prior_bd[0]\n",
    "        params.append(param)\n",
    "    params = torch.tensor(params)\n",
    "    \n",
    "    params_dict = dict()\n",
    "    params_dict[\"tau_e\"] =  params[0].item()\n",
    "    params_dict[\"tau_i\"] =  params[1].item()\n",
    "    params_dict[\"tauC\"] =  params[2].item()\n",
    "    params_dict[\"speed\"] =  params[3].item()\n",
    "    params_dict[\"alpha\"] =  params[4].item()\n",
    "    params_dict[\"gii\"] =  params[5].item()\n",
    "    params_dict[\"gei\"] =  params[6].item()\n",
    "    \n",
    "    all_FCs = []\n",
    "    for freqrange in freqranges:\n",
    "        modelFC = build_fc_freq_m(brain , params_dict, freqrange)\n",
    "        cur_FC = np.abs(modelFC[:68, :68])\n",
    "        all_FCs.append(cur_FC.flatten())\n",
    "    all_FCs = np.array(all_FCs)\n",
    "    return all_FCs"
   ]
  },
  {
   "cell_type": "code",
   "execution_count": 6,
   "id": "92df47f7",
   "metadata": {
    "ExecuteTime": {
     "end_time": "2023-01-07T03:16:39.763968Z",
     "start_time": "2023-01-07T03:16:39.719915Z"
    }
   },
   "outputs": [],
   "source": [
    "def _simulate_data(raw_params, brain, prior_bds, freqrange):\n",
    "    params = []\n",
    "    for raw_param, prior_bd in zip(raw_params, prior_bds):\n",
    "        param =  _map_fn_torch(raw_param)*(prior_bd[1]-prior_bd[0]) + prior_bd[0]\n",
    "        params.append(param)\n",
    "    params = torch.tensor(params)\n",
    "    \n",
    "    params_dict = dict()\n",
    "    params_dict[\"tau_e\"] =  params[0].item()\n",
    "    params_dict[\"tau_i\"] =  params[1].item()\n",
    "    params_dict[\"tauC\"] =  params[2].item()\n",
    "    params_dict[\"speed\"] =  params[3].item()\n",
    "    params_dict[\"alpha\"] =  params[4].item()\n",
    "    params_dict[\"gii\"] =  params[5].item()\n",
    "    params_dict[\"gei\"] =  params[6].item()\n",
    "    modelFC = build_fc_freq_m(brain , params_dict, freqrange)\n",
    "    return np.abs(modelFC[:68, :68])"
   ]
  },
  {
   "cell_type": "code",
   "execution_count": 7,
   "id": "9daeac1d",
   "metadata": {
    "ExecuteTime": {
     "end_time": "2023-01-07T03:16:39.832409Z",
     "start_time": "2023-01-07T03:16:39.766557Z"
    }
   },
   "outputs": [],
   "source": [
    "# transfer vec to a sym mat\n",
    "def _vec_2mat(vec):\n",
    "    mat = np.zeros((68, 68))\n",
    "    mat[np.triu_indices(68, k = 1)] = vec\n",
    "    mat = mat + mat.T\n",
    "    return mat"
   ]
  },
  {
   "cell_type": "code",
   "execution_count": 8,
   "id": "97d45982",
   "metadata": {
    "ExecuteTime": {
     "end_time": "2023-01-07T03:16:39.917048Z",
     "start_time": "2023-01-07T03:16:39.835286Z"
    }
   },
   "outputs": [],
   "source": [
    "def _filter_unstable(theta_raw, prior_bds, x=None):\n",
    "    \"\"\"This fn is to remove unstable SGM parameters\n",
    "        args: theta_raw: parameters: num of sps x dim\n",
    "                order: ['Taue', 'Taui', 'TauC', 'Speed', 'alpha', 'gii', 'gei']\n",
    "    \"\"\"\n",
    "    theta = _theta_raw_2out(theta_raw.numpy(), prior_bds)\n",
    "    stable_idxs = paras_table_check(theta)\n",
    "    \n",
    "    # keep stable sps only\n",
    "    theta_raw_stable = theta_raw[stable_idxs==0]\n",
    "    if x is not None:\n",
    "        x_stable = x[stable_idxs==0]\n",
    "        return theta_raw_stable, x_stable\n",
    "    else:\n",
    "        return theta_raw_stable"
   ]
  },
  {
   "cell_type": "code",
   "execution_count": null,
   "id": "c2112ea2",
   "metadata": {},
   "outputs": [],
   "source": []
  },
  {
   "cell_type": "markdown",
   "id": "12bd0463",
   "metadata": {},
   "source": [
    "## Some parameters"
   ]
  },
  {
   "cell_type": "code",
   "execution_count": 9,
   "id": "60ee9273",
   "metadata": {
    "ExecuteTime": {
     "end_time": "2023-01-07T03:16:41.965985Z",
     "start_time": "2023-01-07T03:16:41.958344Z"
    }
   },
   "outputs": [],
   "source": [
    "_paras = edict()\n",
    "_paras.delta = [2, 3.5]\n",
    "_paras.theta = [4, 7]\n",
    "_paras.alpha = [8, 12]\n",
    "_paras.beta = [13, 20]\n",
    "_paras.beta_l = [13, 20]\n",
    "_paras.beta_h = [15, 25]\n",
    "_paras.cols = [\"#1b9e77\", \"#d95f02\", \"#7570b3\", \"#e7298a\", \"#66a61e\", \"#e6ab02\",]\n",
    "_paras.markers = [\"o\", \"h\", \"*\", \"+\"]\n",
    "_paras.barh = 0.05"
   ]
  },
  {
   "cell_type": "code",
   "execution_count": 10,
   "id": "74f883ac",
   "metadata": {
    "ExecuteTime": {
     "end_time": "2023-01-07T03:16:51.298967Z",
     "start_time": "2023-01-07T03:16:51.283133Z"
    }
   },
   "outputs": [
    {
     "name": "stdout",
     "output_type": "stream",
     "text": [
      "[array([2.   , 2.375, 2.75 , 3.125, 3.5  ]), array([4.  , 4.75, 5.5 , 6.25, 7.  ]), array([ 8.,  9., 10., 11., 12.]), array([13.  , 14.75, 16.5 , 18.25, 20.  ])]\n"
     ]
    }
   ],
   "source": [
    "paras = edict()\n",
    "\n",
    "paras.fc_types = [\"delta\", \"theta\", \"alpha\", \"beta_l\"]\n",
    "paras.freqranges =  [np.linspace(_paras[fc_type][0], _paras[fc_type][1], 5) \n",
    "                     for fc_type in paras.fc_types]\n",
    "print(paras.freqranges)\n",
    "paras.fs = 600\n",
    "paras.num_nodes = 86 # Number of cortical (68) + subcortical nodes\n",
    "paras.par_low = np.asarray([0.005,0.005,0.005,5, 0.1,0.001,0.001])\n",
    "paras.par_high = np.asarray([0.03, 0.20, 0.03,20,  1,    2,  0.7])\n",
    "paras.prior_bds = np.array([paras.par_low, paras.par_high]).T\n",
    "paras.prior_sd = 10\n",
    "paras.add_v = 0.05\n",
    "\n",
    "paras.dirs = edict()\n",
    "paras.dirs.allbands = RES_ROOT/\"newbds_posteriorMRmulDiffNum_delta-theta-alpha-beta_l_num10000_densitynsf_MR2_noise_sd80_addv5\"\n",
    "paras.dirs.delta = RES_ROOT/\"newbds_posteriorMRmul_delta_num1000_densitynsf_MR3_noise_sd80_addv5\"\n",
    "paras.dirs.theta = RES_ROOT/\"newbds_posteriorMRmul_theta_num1000_densitynsf_MR3_noise_sd80_addv5\"\n",
    "paras.dirs.alpha = RES_ROOT/\"newbds_posteriorMRmul_alpha_num1000_densitynsf_MR3_noise_sd80_addv5\"\n",
    "paras.dirs.beta_l = RES_ROOT/\"newbds_posteriorMRmul_beta_l_num1000_densitynsf_MR3_noise_sd80_addv5\"\n",
    "paras.dirs.out_dir = RES_ROOT/\"newbds_out_res/\"\n"
   ]
  },
  {
   "cell_type": "code",
   "execution_count": 11,
   "id": "0b853363",
   "metadata": {
    "ExecuteTime": {
     "end_time": "2023-01-07T03:16:52.992623Z",
     "start_time": "2023-01-07T03:16:52.987473Z"
    }
   },
   "outputs": [],
   "source": [
    "# fn for reparemetering\n",
    "_map_fn_torch = partial(logistic_torch, k=0.1)\n",
    "_theta_raw_2out = partial(theta_raw_2out, map_fn=partial(logistic_np, k=0.1))"
   ]
  },
  {
   "cell_type": "code",
   "execution_count": 12,
   "id": "d66040ab",
   "metadata": {
    "ExecuteTime": {
     "end_time": "2023-01-07T03:16:53.339943Z",
     "start_time": "2023-01-07T03:16:53.330463Z"
    }
   },
   "outputs": [],
   "source": [
    "prior = MultivariateNormal(loc=torch.zeros(7), covariance_matrix=torch.eye(7)*(paras.prior_sd**2))"
   ]
  },
  {
   "cell_type": "code",
   "execution_count": null,
   "id": "2c1606b7",
   "metadata": {},
   "outputs": [],
   "source": []
  },
  {
   "cell_type": "markdown",
   "id": "cc57cec6",
   "metadata": {},
   "source": [
    "## Load the data"
   ]
  },
  {
   "cell_type": "code",
   "execution_count": 13,
   "id": "ba97c3d9",
   "metadata": {
    "ExecuteTime": {
     "end_time": "2023-01-07T03:16:54.611076Z",
     "start_time": "2023-01-07T03:16:54.314652Z"
    }
   },
   "outputs": [],
   "source": [
    "# SC\n",
    "ind_conn_xr = xr.open_dataarray(DATA_ROOT/'individual_connectomes_reordered.nc')\n",
    "ind_conn = ind_conn_xr.values\n",
    "ind_conn1 = ind_conn_xr.values\n",
    "\n",
    "# PSD\n",
    "ind_psd_xr = xr.open_dataarray(DATA_ROOT/'individual_psd_reordered_matlab.nc')\n",
    "ind_psd = ind_psd_xr.values\n",
    "fvec = ind_psd_xr[\"frequencies\"].values"
   ]
  },
  {
   "cell_type": "code",
   "execution_count": 14,
   "id": "ee5a4fc9",
   "metadata": {
    "ExecuteTime": {
     "end_time": "2023-01-07T03:16:55.966910Z",
     "start_time": "2023-01-07T03:16:55.946001Z"
    }
   },
   "outputs": [
    {
     "name": "stdout",
     "output_type": "stream",
     "text": [
      "Add 0.05 on diag\n"
     ]
    }
   ],
   "source": [
    "\n",
    "def _add_v2con(cur_ind_conn):\n",
    "    cur_ind_conn = cur_ind_conn.copy()\n",
    "    add_v = np.max(cur_ind_conn)*paras.add_v # tuning 0.1\n",
    "    np.fill_diagonal(cur_ind_conn[:34, 34:68], cur_ind_conn[:34, 34:68] + add_v)\n",
    "    np.fill_diagonal(cur_ind_conn[34:68, :34], cur_ind_conn[34:68, :34] + add_v)\n",
    "    np.fill_diagonal(cur_ind_conn[68:77, 77:], cur_ind_conn[68:77, 77:] + add_v)\n",
    "    np.fill_diagonal(cur_ind_conn[77:, 68:77], cur_ind_conn[77:, 68:77] + add_v)\n",
    "    return cur_ind_conn\n",
    "\n",
    "\n",
    "if paras.add_v != 0:\n",
    "    print(f\"Add {paras.add_v} on diag\")\n",
    "    ind_conn_adds = [_add_v2con(ind_conn[:, :, ix]) for ix in range(36)]\n",
    "    ind_conn = np.transpose(np.array(ind_conn_adds), (1, 2, 0))"
   ]
  },
  {
   "cell_type": "code",
   "execution_count": null,
   "id": "b939cd37",
   "metadata": {},
   "outputs": [],
   "source": []
  },
  {
   "cell_type": "markdown",
   "id": "a3b547ea",
   "metadata": {},
   "source": [
    "## Save results"
   ]
  },
  {
   "cell_type": "markdown",
   "id": "70fee607",
   "metadata": {},
   "source": [
    "### New SC\n",
    "\n",
    "add 0.05 * maxv to the diag"
   ]
  },
  {
   "cell_type": "code",
   "execution_count": 15,
   "id": "158a98e9",
   "metadata": {
    "ExecuteTime": {
     "end_time": "2023-01-07T03:16:59.587352Z",
     "start_time": "2023-01-07T03:16:59.498044Z"
    }
   },
   "outputs": [],
   "source": [
    "ind_conn_xr.values = ind_conn\n",
    "ind_conn_xr.to_netcdf(RES_ROOT/\"./newbds_out_res/individual_connectomes_reordered_new.nc\")"
   ]
  },
  {
   "cell_type": "markdown",
   "id": "a4878fb3",
   "metadata": {},
   "source": [
    "### FC and SGM parameters"
   ]
  },
  {
   "cell_type": "markdown",
   "id": "a24a4e53",
   "metadata": {},
   "source": [
    "#### All bands"
   ]
  },
  {
   "cell_type": "code",
   "execution_count": 16,
   "id": "0198170d",
   "metadata": {
    "ExecuteTime": {
     "end_time": "2023-01-07T03:17:01.401647Z",
     "start_time": "2023-01-07T03:17:01.393213Z"
    }
   },
   "outputs": [],
   "source": [
    "res_fils = paras.dirs.allbands.glob(\"ind*.pkl\")\n",
    "_sorted_fn = lambda x: int(x.stem.split(\"ind\")[-1][:])\n",
    "sorted_fils = sorted(res_fils, key=_sorted_fn)"
   ]
  },
  {
   "cell_type": "code",
   "execution_count": 17,
   "id": "f97d4b7d",
   "metadata": {
    "ExecuteTime": {
     "end_time": "2023-01-07T03:34:29.740515Z",
     "start_time": "2023-01-07T03:17:06.467857Z"
    },
    "scrolled": true
   },
   "outputs": [
    {
     "data": {
      "application/vnd.jupyter.widget-view+json": {
       "model_id": "0d953a01710e48d2a3d6b9ceec7fcabe",
       "version_major": 2,
       "version_minor": 0
      },
      "text/plain": [
       "Drawing 1500 posterior samples:   0%|          | 0/1500 [00:00<?, ?it/s]"
      ]
     },
     "metadata": {},
     "output_type": "display_data"
    },
    {
     "name": "stderr",
     "output_type": "stream",
     "text": [
      "/home/hujin/.local/lib/python3.9/site-packages/nflows/transforms/lu.py:80: UserWarning: torch.triangular_solve is deprecated in favor of torch.linalg.solve_triangularand will be removed in a future PyTorch release.\n",
      "torch.linalg.solve_triangular has its arguments reversed and does not return a copy of one of the inputs.\n",
      "X = torch.triangular_solve(B, A).solution\n",
      "should be replaced with\n",
      "X = torch.linalg.solve_triangular(A, B). (Triggered internally at  ../aten/src/ATen/native/BatchLinearAlgebra.cpp:2189.)\n",
      "  outputs, _ = torch.triangular_solve(\n"
     ]
    },
    {
     "data": {
      "application/vnd.jupyter.widget-view+json": {
       "model_id": "511bf5676a5740e19fc9b82ae780a7e8",
       "version_major": 2,
       "version_minor": 0
      },
      "text/plain": [
       "Running 1500 simulations in 1500 batches.:   0%|          | 0/1500 [00:00<?, ?it/s]"
      ]
     },
     "metadata": {},
     "output_type": "display_data"
    },
    {
     "data": {
      "application/vnd.jupyter.widget-view+json": {
       "model_id": "372494d7f9854bde9677838222c13641",
       "version_major": 2,
       "version_minor": 0
      },
      "text/plain": [
       "Drawing 1500 posterior samples:   0%|          | 0/1500 [00:00<?, ?it/s]"
      ]
     },
     "metadata": {},
     "output_type": "display_data"
    },
    {
     "data": {
      "application/vnd.jupyter.widget-view+json": {
       "model_id": "5e8e2997f41846ac9d3004c94b5245f1",
       "version_major": 2,
       "version_minor": 0
      },
      "text/plain": [
       "Running 1500 simulations in 1500 batches.:   0%|          | 0/1500 [00:00<?, ?it/s]"
      ]
     },
     "metadata": {},
     "output_type": "display_data"
    },
    {
     "data": {
      "application/vnd.jupyter.widget-view+json": {
       "model_id": "8b18d9960d51407c9c91392343b391fc",
       "version_major": 2,
       "version_minor": 0
      },
      "text/plain": [
       "Drawing 1500 posterior samples:   0%|          | 0/1500 [00:00<?, ?it/s]"
      ]
     },
     "metadata": {},
     "output_type": "display_data"
    },
    {
     "data": {
      "application/vnd.jupyter.widget-view+json": {
       "model_id": "a6f0a44e768f4bfa91d436aaee10a86a",
       "version_major": 2,
       "version_minor": 0
      },
      "text/plain": [
       "Running 1500 simulations in 1500 batches.:   0%|          | 0/1500 [00:00<?, ?it/s]"
      ]
     },
     "metadata": {},
     "output_type": "display_data"
    },
    {
     "data": {
      "application/vnd.jupyter.widget-view+json": {
       "model_id": "4e3b8d261e8249ddafbb0511537f5aa7",
       "version_major": 2,
       "version_minor": 0
      },
      "text/plain": [
       "Drawing 1500 posterior samples:   0%|          | 0/1500 [00:00<?, ?it/s]"
      ]
     },
     "metadata": {},
     "output_type": "display_data"
    },
    {
     "data": {
      "application/vnd.jupyter.widget-view+json": {
       "model_id": "6266f6c352aa46b48cc769834f8108b4",
       "version_major": 2,
       "version_minor": 0
      },
      "text/plain": [
       "Running 1500 simulations in 1500 batches.:   0%|          | 0/1500 [00:00<?, ?it/s]"
      ]
     },
     "metadata": {},
     "output_type": "display_data"
    },
    {
     "data": {
      "application/vnd.jupyter.widget-view+json": {
       "model_id": "06ec830bb95e4dd495ed303b927e18e0",
       "version_major": 2,
       "version_minor": 0
      },
      "text/plain": [
       "Drawing 1500 posterior samples:   0%|          | 0/1500 [00:00<?, ?it/s]"
      ]
     },
     "metadata": {},
     "output_type": "display_data"
    },
    {
     "data": {
      "application/vnd.jupyter.widget-view+json": {
       "model_id": "86ee6ed4be9f4f36ba44296419d4bf3b",
       "version_major": 2,
       "version_minor": 0
      },
      "text/plain": [
       "Running 1500 simulations in 1500 batches.:   0%|          | 0/1500 [00:00<?, ?it/s]"
      ]
     },
     "metadata": {},
     "output_type": "display_data"
    },
    {
     "data": {
      "application/vnd.jupyter.widget-view+json": {
       "model_id": "ff7bab33505a45309f1bf8570ebc6196",
       "version_major": 2,
       "version_minor": 0
      },
      "text/plain": [
       "Drawing 1500 posterior samples:   0%|          | 0/1500 [00:00<?, ?it/s]"
      ]
     },
     "metadata": {},
     "output_type": "display_data"
    },
    {
     "data": {
      "application/vnd.jupyter.widget-view+json": {
       "model_id": "a7e5208083d84fd89b1372cf03c4c1e6",
       "version_major": 2,
       "version_minor": 0
      },
      "text/plain": [
       "Running 1500 simulations in 1500 batches.:   0%|          | 0/1500 [00:00<?, ?it/s]"
      ]
     },
     "metadata": {},
     "output_type": "display_data"
    },
    {
     "data": {
      "application/vnd.jupyter.widget-view+json": {
       "model_id": "a899ff272fdc4434bab542220cc07b67",
       "version_major": 2,
       "version_minor": 0
      },
      "text/plain": [
       "Drawing 1500 posterior samples:   0%|          | 0/1500 [00:00<?, ?it/s]"
      ]
     },
     "metadata": {},
     "output_type": "display_data"
    },
    {
     "data": {
      "application/vnd.jupyter.widget-view+json": {
       "model_id": "d6dbabac89654a4d93542f4780c18c3e",
       "version_major": 2,
       "version_minor": 0
      },
      "text/plain": [
       "Running 1500 simulations in 1500 batches.:   0%|          | 0/1500 [00:00<?, ?it/s]"
      ]
     },
     "metadata": {},
     "output_type": "display_data"
    },
    {
     "data": {
      "application/vnd.jupyter.widget-view+json": {
       "model_id": "dd95330d7e3a4657a18e321a98ba2495",
       "version_major": 2,
       "version_minor": 0
      },
      "text/plain": [
       "Drawing 1500 posterior samples:   0%|          | 0/1500 [00:00<?, ?it/s]"
      ]
     },
     "metadata": {},
     "output_type": "display_data"
    },
    {
     "data": {
      "application/vnd.jupyter.widget-view+json": {
       "model_id": "55c2aff9fb014c52b286222c7a6a519c",
       "version_major": 2,
       "version_minor": 0
      },
      "text/plain": [
       "Running 1500 simulations in 1500 batches.:   0%|          | 0/1500 [00:00<?, ?it/s]"
      ]
     },
     "metadata": {},
     "output_type": "display_data"
    },
    {
     "data": {
      "application/vnd.jupyter.widget-view+json": {
       "model_id": "c782feddbed44385aa0bd82da7f8190e",
       "version_major": 2,
       "version_minor": 0
      },
      "text/plain": [
       "Drawing 1500 posterior samples:   0%|          | 0/1500 [00:00<?, ?it/s]"
      ]
     },
     "metadata": {},
     "output_type": "display_data"
    },
    {
     "data": {
      "application/vnd.jupyter.widget-view+json": {
       "model_id": "4be7ce38660541f9ac00e31aa661afb9",
       "version_major": 2,
       "version_minor": 0
      },
      "text/plain": [
       "Running 1500 simulations in 1500 batches.:   0%|          | 0/1500 [00:00<?, ?it/s]"
      ]
     },
     "metadata": {},
     "output_type": "display_data"
    },
    {
     "data": {
      "application/vnd.jupyter.widget-view+json": {
       "model_id": "df49fbeefaad451f8c329a30c8b59e40",
       "version_major": 2,
       "version_minor": 0
      },
      "text/plain": [
       "Drawing 1500 posterior samples:   0%|          | 0/1500 [00:00<?, ?it/s]"
      ]
     },
     "metadata": {},
     "output_type": "display_data"
    },
    {
     "data": {
      "application/vnd.jupyter.widget-view+json": {
       "model_id": "3595f3548af44e948436b2cc6b050be2",
       "version_major": 2,
       "version_minor": 0
      },
      "text/plain": [
       "Running 1500 simulations in 1500 batches.:   0%|          | 0/1500 [00:00<?, ?it/s]"
      ]
     },
     "metadata": {},
     "output_type": "display_data"
    },
    {
     "data": {
      "application/vnd.jupyter.widget-view+json": {
       "model_id": "a266969e39024b8eb3fde6f45ff82df8",
       "version_major": 2,
       "version_minor": 0
      },
      "text/plain": [
       "Drawing 1500 posterior samples:   0%|          | 0/1500 [00:00<?, ?it/s]"
      ]
     },
     "metadata": {},
     "output_type": "display_data"
    },
    {
     "data": {
      "application/vnd.jupyter.widget-view+json": {
       "model_id": "c00d25619fc7481b9d4549d9096449d4",
       "version_major": 2,
       "version_minor": 0
      },
      "text/plain": [
       "Running 1500 simulations in 1500 batches.:   0%|          | 0/1500 [00:00<?, ?it/s]"
      ]
     },
     "metadata": {},
     "output_type": "display_data"
    },
    {
     "data": {
      "application/vnd.jupyter.widget-view+json": {
       "model_id": "8420ca79a7624c3587244c60b839a4d8",
       "version_major": 2,
       "version_minor": 0
      },
      "text/plain": [
       "Drawing 1500 posterior samples:   0%|          | 0/1500 [00:00<?, ?it/s]"
      ]
     },
     "metadata": {},
     "output_type": "display_data"
    },
    {
     "data": {
      "application/vnd.jupyter.widget-view+json": {
       "model_id": "fe58dd1b84b547a6996ca1d388027cc1",
       "version_major": 2,
       "version_minor": 0
      },
      "text/plain": [
       "Running 1500 simulations in 1500 batches.:   0%|          | 0/1500 [00:00<?, ?it/s]"
      ]
     },
     "metadata": {},
     "output_type": "display_data"
    },
    {
     "name": "stderr",
     "output_type": "stream",
     "text": [
      "IOPub message rate exceeded.\n",
      "The notebook server will temporarily stop sending output\n",
      "to the client in order to avoid crashing it.\n",
      "To change this limit, set the config variable\n",
      "`--NotebookApp.iopub_msg_rate_limit`.\n",
      "\n",
      "Current values:\n",
      "NotebookApp.iopub_msg_rate_limit=1000.0 (msgs/sec)\n",
      "NotebookApp.rate_limit_window=3.0 (secs)\n",
      "\n"
     ]
    }
   ],
   "source": [
    "for cur_idx in range(36):\n",
    "    brain = Brain.Brain()\n",
    "    brain.add_connectome(DATA_ROOT) # grabs distance matrix\n",
    "    brain.reorder_connectome(brain.connectome, brain.distance_matrix)\n",
    "    brain.connectome =  ind_conn[:, :, cur_idx] # re-assign connectome to individual connectome\n",
    "    brain.bi_symmetric_c()\n",
    "    brain.reduce_extreme_dir()\n",
    "    \n",
    "    cur_posterior = load_pkl(sorted_fils[cur_idx], False)\n",
    "    _simulate_data_sp = partial(_simulate_data_mulbands, \n",
    "                                    brain=brain, \n",
    "                                    prior_bds=paras.prior_bds, \n",
    "                                    freqranges=paras.freqranges)\n",
    "    _simulate_data_wrapper, _ = prepare_for_sbi(_simulate_data_sp, prior)\n",
    "        \n",
    "        \n",
    "    cur_paras_raw, cur_post_fcs = simulate_for_sbi(_simulate_data_wrapper, cur_posterior,\n",
    "                                        num_simulations=1500, \n",
    "                                        num_workers=20)\n",
    "    cur_paras_raw, cur_post_fcs = _filter_unstable(cur_paras_raw, paras.prior_bds, cur_post_fcs)\n",
    "    cur_paras_raw, cur_post_fcs = cur_paras_raw[:1000, :], cur_post_fcs[:1000, :]\n",
    "    cur_paras = _theta_raw_2out(cur_paras_raw.numpy(), paras.prior_bds)\n",
    "    np.savetxt(paras.dirs.out_dir/f\"allbands/SGM_params_ind{cur_idx+1:02.0f}_allband.txt\", \n",
    "                   cur_paras)\n",
    "\n",
    "    cur_post_fcs = cur_post_fcs.reshape(-1, len(paras.fc_types), 68, 68)\n",
    "    cur_est_FCs = np.abs(cur_post_fcs.mean(axis=0).numpy())\n",
    "    \n",
    "    for ix in range(len(paras.fc_types)):\n",
    "        cur_est_FC = cur_est_FCs[ix]\n",
    "        np.savetxt(paras.dirs.out_dir/f\"allbands/est_FC_ind{cur_idx+1:02.0f}_{paras.fc_types[ix]}.txt\", \n",
    "                   cur_est_FC)"
   ]
  },
  {
   "cell_type": "markdown",
   "id": "1a5783d2",
   "metadata": {},
   "source": [
    "#### single band"
   ]
  },
  {
   "cell_type": "code",
   "execution_count": 21,
   "id": "1d375f10",
   "metadata": {
    "ExecuteTime": {
     "end_time": "2023-01-08T02:53:55.741995Z",
     "start_time": "2023-01-08T02:53:55.734990Z"
    }
   },
   "outputs": [
    {
     "data": {
      "text/plain": [
       "['delta', 'theta', 'alpha', 'beta_l']"
      ]
     },
     "execution_count": 21,
     "metadata": {},
     "output_type": "execute_result"
    }
   ],
   "source": [
    "paras.fc_types"
   ]
  },
  {
   "cell_type": "code",
   "execution_count": 23,
   "id": "224f9964",
   "metadata": {
    "ExecuteTime": {
     "end_time": "2023-01-08T03:06:20.025543Z",
     "start_time": "2023-01-08T03:01:22.015078Z"
    },
    "scrolled": true
   },
   "outputs": [
    {
     "data": {
      "application/vnd.jupyter.widget-view+json": {
       "model_id": "5bf9ef4201f149dea9a9904f7547c7c9",
       "version_major": 2,
       "version_minor": 0
      },
      "text/plain": [
       "Drawing 1500 posterior samples:   0%|          | 0/1500 [00:00<?, ?it/s]"
      ]
     },
     "metadata": {},
     "output_type": "display_data"
    },
    {
     "data": {
      "application/vnd.jupyter.widget-view+json": {
       "model_id": "bfa6a0449d1949beb035eaf4d8a2d0f5",
       "version_major": 2,
       "version_minor": 0
      },
      "text/plain": [
       "Running 1500 simulations in 1500 batches.:   0%|          | 0/1500 [00:00<?, ?it/s]"
      ]
     },
     "metadata": {},
     "output_type": "display_data"
    },
    {
     "data": {
      "application/vnd.jupyter.widget-view+json": {
       "model_id": "091d1a3e9eb1457abe63b07fa115aa4b",
       "version_major": 2,
       "version_minor": 0
      },
      "text/plain": [
       "Drawing 1500 posterior samples:   0%|          | 0/1500 [00:00<?, ?it/s]"
      ]
     },
     "metadata": {},
     "output_type": "display_data"
    },
    {
     "data": {
      "application/vnd.jupyter.widget-view+json": {
       "model_id": "0d50ee4b8694434dba955888f7d5c797",
       "version_major": 2,
       "version_minor": 0
      },
      "text/plain": [
       "Running 1500 simulations in 1500 batches.:   0%|          | 0/1500 [00:00<?, ?it/s]"
      ]
     },
     "metadata": {},
     "output_type": "display_data"
    },
    {
     "data": {
      "application/vnd.jupyter.widget-view+json": {
       "model_id": "a7f664e0c3ee41ac9a3907408cce281c",
       "version_major": 2,
       "version_minor": 0
      },
      "text/plain": [
       "Drawing 1500 posterior samples:   0%|          | 0/1500 [00:00<?, ?it/s]"
      ]
     },
     "metadata": {},
     "output_type": "display_data"
    },
    {
     "data": {
      "application/vnd.jupyter.widget-view+json": {
       "model_id": "a414052774ff42669d17784023ecb738",
       "version_major": 2,
       "version_minor": 0
      },
      "text/plain": [
       "Running 1500 simulations in 1500 batches.:   0%|          | 0/1500 [00:00<?, ?it/s]"
      ]
     },
     "metadata": {},
     "output_type": "display_data"
    },
    {
     "data": {
      "application/vnd.jupyter.widget-view+json": {
       "model_id": "c78a489b7c034a448c28bc8159b11143",
       "version_major": 2,
       "version_minor": 0
      },
      "text/plain": [
       "Drawing 1500 posterior samples:   0%|          | 0/1500 [00:00<?, ?it/s]"
      ]
     },
     "metadata": {},
     "output_type": "display_data"
    },
    {
     "data": {
      "application/vnd.jupyter.widget-view+json": {
       "model_id": "6f965445fe544a6189da2f10f16c01ad",
       "version_major": 2,
       "version_minor": 0
      },
      "text/plain": [
       "Running 1500 simulations in 1500 batches.:   0%|          | 0/1500 [00:00<?, ?it/s]"
      ]
     },
     "metadata": {},
     "output_type": "display_data"
    },
    {
     "data": {
      "application/vnd.jupyter.widget-view+json": {
       "model_id": "98603f08de2f4c01beca7c17b25b7c4f",
       "version_major": 2,
       "version_minor": 0
      },
      "text/plain": [
       "Drawing 1500 posterior samples:   0%|          | 0/1500 [00:00<?, ?it/s]"
      ]
     },
     "metadata": {},
     "output_type": "display_data"
    },
    {
     "data": {
      "application/vnd.jupyter.widget-view+json": {
       "model_id": "14d655e21caf4599b10fc0dc6acf4fb0",
       "version_major": 2,
       "version_minor": 0
      },
      "text/plain": [
       "Running 1500 simulations in 1500 batches.:   0%|          | 0/1500 [00:00<?, ?it/s]"
      ]
     },
     "metadata": {},
     "output_type": "display_data"
    },
    {
     "data": {
      "application/vnd.jupyter.widget-view+json": {
       "model_id": "b8be61afc2584ed68888bbe37ffedbd5",
       "version_major": 2,
       "version_minor": 0
      },
      "text/plain": [
       "Drawing 1500 posterior samples:   0%|          | 0/1500 [00:00<?, ?it/s]"
      ]
     },
     "metadata": {},
     "output_type": "display_data"
    },
    {
     "data": {
      "application/vnd.jupyter.widget-view+json": {
       "model_id": "4c41047c307c4271b2ab8147e527be70",
       "version_major": 2,
       "version_minor": 0
      },
      "text/plain": [
       "Running 1500 simulations in 1500 batches.:   0%|          | 0/1500 [00:00<?, ?it/s]"
      ]
     },
     "metadata": {},
     "output_type": "display_data"
    },
    {
     "data": {
      "application/vnd.jupyter.widget-view+json": {
       "model_id": "7f29069116d743d89259b2e7e002bfcc",
       "version_major": 2,
       "version_minor": 0
      },
      "text/plain": [
       "Drawing 1500 posterior samples:   0%|          | 0/1500 [00:00<?, ?it/s]"
      ]
     },
     "metadata": {},
     "output_type": "display_data"
    },
    {
     "data": {
      "application/vnd.jupyter.widget-view+json": {
       "model_id": "aa14e9401f144500a5c8ad07d3dfad32",
       "version_major": 2,
       "version_minor": 0
      },
      "text/plain": [
       "Running 1500 simulations in 1500 batches.:   0%|          | 0/1500 [00:00<?, ?it/s]"
      ]
     },
     "metadata": {},
     "output_type": "display_data"
    },
    {
     "data": {
      "application/vnd.jupyter.widget-view+json": {
       "model_id": "82707ed54b934d359caf96217bd4eced",
       "version_major": 2,
       "version_minor": 0
      },
      "text/plain": [
       "Drawing 1500 posterior samples:   0%|          | 0/1500 [00:00<?, ?it/s]"
      ]
     },
     "metadata": {},
     "output_type": "display_data"
    },
    {
     "data": {
      "application/vnd.jupyter.widget-view+json": {
       "model_id": "685b0cc22bf048b6bc8162223a826f00",
       "version_major": 2,
       "version_minor": 0
      },
      "text/plain": [
       "Running 1500 simulations in 1500 batches.:   0%|          | 0/1500 [00:00<?, ?it/s]"
      ]
     },
     "metadata": {},
     "output_type": "display_data"
    },
    {
     "data": {
      "application/vnd.jupyter.widget-view+json": {
       "model_id": "621f91ebca7e45e4aa67a37ec1bf5d6c",
       "version_major": 2,
       "version_minor": 0
      },
      "text/plain": [
       "Drawing 1500 posterior samples:   0%|          | 0/1500 [00:00<?, ?it/s]"
      ]
     },
     "metadata": {},
     "output_type": "display_data"
    },
    {
     "data": {
      "application/vnd.jupyter.widget-view+json": {
       "model_id": "8860bad961ea4890bc565463b5191a85",
       "version_major": 2,
       "version_minor": 0
      },
      "text/plain": [
       "Running 1500 simulations in 1500 batches.:   0%|          | 0/1500 [00:00<?, ?it/s]"
      ]
     },
     "metadata": {},
     "output_type": "display_data"
    },
    {
     "data": {
      "application/vnd.jupyter.widget-view+json": {
       "model_id": "c39a00efd0ba4a62b19ec61c2e39e6b5",
       "version_major": 2,
       "version_minor": 0
      },
      "text/plain": [
       "Drawing 1500 posterior samples:   0%|          | 0/1500 [00:00<?, ?it/s]"
      ]
     },
     "metadata": {},
     "output_type": "display_data"
    },
    {
     "data": {
      "application/vnd.jupyter.widget-view+json": {
       "model_id": "9827496f208b4869b0d30745b6fba020",
       "version_major": 2,
       "version_minor": 0
      },
      "text/plain": [
       "Running 1500 simulations in 1500 batches.:   0%|          | 0/1500 [00:00<?, ?it/s]"
      ]
     },
     "metadata": {},
     "output_type": "display_data"
    },
    {
     "data": {
      "application/vnd.jupyter.widget-view+json": {
       "model_id": "4926a1d1f6724b7fa6d87602063da0ac",
       "version_major": 2,
       "version_minor": 0
      },
      "text/plain": [
       "Drawing 1500 posterior samples:   0%|          | 0/1500 [00:00<?, ?it/s]"
      ]
     },
     "metadata": {},
     "output_type": "display_data"
    },
    {
     "data": {
      "application/vnd.jupyter.widget-view+json": {
       "model_id": "63e3e7b0e27140d8bf6841d4eb6c1617",
       "version_major": 2,
       "version_minor": 0
      },
      "text/plain": [
       "Running 1500 simulations in 1500 batches.:   0%|          | 0/1500 [00:00<?, ?it/s]"
      ]
     },
     "metadata": {},
     "output_type": "display_data"
    },
    {
     "data": {
      "application/vnd.jupyter.widget-view+json": {
       "model_id": "e79603ac569248fab3153826cd938517",
       "version_major": 2,
       "version_minor": 0
      },
      "text/plain": [
       "Drawing 1500 posterior samples:   0%|          | 0/1500 [00:00<?, ?it/s]"
      ]
     },
     "metadata": {},
     "output_type": "display_data"
    },
    {
     "data": {
      "application/vnd.jupyter.widget-view+json": {
       "model_id": "9ea60f30c4c44099ae05918216ee0e22",
       "version_major": 2,
       "version_minor": 0
      },
      "text/plain": [
       "Running 1500 simulations in 1500 batches.:   0%|          | 0/1500 [00:00<?, ?it/s]"
      ]
     },
     "metadata": {},
     "output_type": "display_data"
    },
    {
     "data": {
      "application/vnd.jupyter.widget-view+json": {
       "model_id": "39d9111c359f4533b9ec0d8723d43159",
       "version_major": 2,
       "version_minor": 0
      },
      "text/plain": [
       "Drawing 1500 posterior samples:   0%|          | 0/1500 [00:00<?, ?it/s]"
      ]
     },
     "metadata": {},
     "output_type": "display_data"
    },
    {
     "data": {
      "application/vnd.jupyter.widget-view+json": {
       "model_id": "35b23a0b923a45918921b4ff79241c19",
       "version_major": 2,
       "version_minor": 0
      },
      "text/plain": [
       "Running 1500 simulations in 1500 batches.:   0%|          | 0/1500 [00:00<?, ?it/s]"
      ]
     },
     "metadata": {},
     "output_type": "display_data"
    },
    {
     "data": {
      "application/vnd.jupyter.widget-view+json": {
       "model_id": "8935bc422dbd4ec9959e354db27e1608",
       "version_major": 2,
       "version_minor": 0
      },
      "text/plain": [
       "Drawing 1500 posterior samples:   0%|          | 0/1500 [00:00<?, ?it/s]"
      ]
     },
     "metadata": {},
     "output_type": "display_data"
    },
    {
     "data": {
      "application/vnd.jupyter.widget-view+json": {
       "model_id": "7eb0986582604ff582ad3590d63eb1a8",
       "version_major": 2,
       "version_minor": 0
      },
      "text/plain": [
       "Running 1500 simulations in 1500 batches.:   0%|          | 0/1500 [00:00<?, ?it/s]"
      ]
     },
     "metadata": {},
     "output_type": "display_data"
    },
    {
     "data": {
      "application/vnd.jupyter.widget-view+json": {
       "model_id": "752274436c8548ea883e30e36762b03d",
       "version_major": 2,
       "version_minor": 0
      },
      "text/plain": [
       "Drawing 1500 posterior samples:   0%|          | 0/1500 [00:00<?, ?it/s]"
      ]
     },
     "metadata": {},
     "output_type": "display_data"
    },
    {
     "data": {
      "application/vnd.jupyter.widget-view+json": {
       "model_id": "b65a8a2cb8ab4cc5b3b4364aeffd61b6",
       "version_major": 2,
       "version_minor": 0
      },
      "text/plain": [
       "Running 1500 simulations in 1500 batches.:   0%|          | 0/1500 [00:00<?, ?it/s]"
      ]
     },
     "metadata": {},
     "output_type": "display_data"
    },
    {
     "data": {
      "application/vnd.jupyter.widget-view+json": {
       "model_id": "93d0c37f4c604779a4e0e71894a71513",
       "version_major": 2,
       "version_minor": 0
      },
      "text/plain": [
       "Drawing 1500 posterior samples:   0%|          | 0/1500 [00:00<?, ?it/s]"
      ]
     },
     "metadata": {},
     "output_type": "display_data"
    },
    {
     "data": {
      "application/vnd.jupyter.widget-view+json": {
       "model_id": "9632f3f78f664ed7b0a46ce16204a638",
       "version_major": 2,
       "version_minor": 0
      },
      "text/plain": [
       "Running 1500 simulations in 1500 batches.:   0%|          | 0/1500 [00:00<?, ?it/s]"
      ]
     },
     "metadata": {},
     "output_type": "display_data"
    },
    {
     "data": {
      "application/vnd.jupyter.widget-view+json": {
       "model_id": "b10d8ea2cb2a4503b5090786b6895736",
       "version_major": 2,
       "version_minor": 0
      },
      "text/plain": [
       "Drawing 1500 posterior samples:   0%|          | 0/1500 [00:00<?, ?it/s]"
      ]
     },
     "metadata": {},
     "output_type": "display_data"
    },
    {
     "data": {
      "application/vnd.jupyter.widget-view+json": {
       "model_id": "976a2ee5d0774ed0944a9d1a00d74d97",
       "version_major": 2,
       "version_minor": 0
      },
      "text/plain": [
       "Running 1500 simulations in 1500 batches.:   0%|          | 0/1500 [00:00<?, ?it/s]"
      ]
     },
     "metadata": {},
     "output_type": "display_data"
    },
    {
     "data": {
      "application/vnd.jupyter.widget-view+json": {
       "model_id": "02c2242858164b699ad60c522863e85e",
       "version_major": 2,
       "version_minor": 0
      },
      "text/plain": [
       "Drawing 1500 posterior samples:   0%|          | 0/1500 [00:00<?, ?it/s]"
      ]
     },
     "metadata": {},
     "output_type": "display_data"
    },
    {
     "data": {
      "application/vnd.jupyter.widget-view+json": {
       "model_id": "d4227bed3682434c8296833e0e9bded6",
       "version_major": 2,
       "version_minor": 0
      },
      "text/plain": [
       "Running 1500 simulations in 1500 batches.:   0%|          | 0/1500 [00:00<?, ?it/s]"
      ]
     },
     "metadata": {},
     "output_type": "display_data"
    },
    {
     "data": {
      "application/vnd.jupyter.widget-view+json": {
       "model_id": "1612af80da134d169117d6510612775a",
       "version_major": 2,
       "version_minor": 0
      },
      "text/plain": [
       "Drawing 1500 posterior samples:   0%|          | 0/1500 [00:00<?, ?it/s]"
      ]
     },
     "metadata": {},
     "output_type": "display_data"
    },
    {
     "data": {
      "application/vnd.jupyter.widget-view+json": {
       "model_id": "3585e45a74c24a20abc20cbb76aa56fb",
       "version_major": 2,
       "version_minor": 0
      },
      "text/plain": [
       "Running 1500 simulations in 1500 batches.:   0%|          | 0/1500 [00:00<?, ?it/s]"
      ]
     },
     "metadata": {},
     "output_type": "display_data"
    },
    {
     "data": {
      "application/vnd.jupyter.widget-view+json": {
       "model_id": "23ae4316e08d49f1af5ebf09cb16595f",
       "version_major": 2,
       "version_minor": 0
      },
      "text/plain": [
       "Drawing 1500 posterior samples:   0%|          | 0/1500 [00:00<?, ?it/s]"
      ]
     },
     "metadata": {},
     "output_type": "display_data"
    },
    {
     "data": {
      "application/vnd.jupyter.widget-view+json": {
       "model_id": "348e163685a841eea47314d9b71c03fb",
       "version_major": 2,
       "version_minor": 0
      },
      "text/plain": [
       "Running 1500 simulations in 1500 batches.:   0%|          | 0/1500 [00:00<?, ?it/s]"
      ]
     },
     "metadata": {},
     "output_type": "display_data"
    },
    {
     "data": {
      "application/vnd.jupyter.widget-view+json": {
       "model_id": "e6f85a073b9b426c89355e5bd9da22b6",
       "version_major": 2,
       "version_minor": 0
      },
      "text/plain": [
       "Drawing 1500 posterior samples:   0%|          | 0/1500 [00:00<?, ?it/s]"
      ]
     },
     "metadata": {},
     "output_type": "display_data"
    },
    {
     "data": {
      "application/vnd.jupyter.widget-view+json": {
       "model_id": "a45d008528cc4b10b7cf22c1a35f4d1b",
       "version_major": 2,
       "version_minor": 0
      },
      "text/plain": [
       "Running 1500 simulations in 1500 batches.:   0%|          | 0/1500 [00:00<?, ?it/s]"
      ]
     },
     "metadata": {},
     "output_type": "display_data"
    },
    {
     "data": {
      "application/vnd.jupyter.widget-view+json": {
       "model_id": "55bce3bb83274a0dbbcbef22c016067d",
       "version_major": 2,
       "version_minor": 0
      },
      "text/plain": [
       "Drawing 1500 posterior samples:   0%|          | 0/1500 [00:00<?, ?it/s]"
      ]
     },
     "metadata": {},
     "output_type": "display_data"
    },
    {
     "data": {
      "application/vnd.jupyter.widget-view+json": {
       "model_id": "f72e67b9c1e94e35bc46175192b397b0",
       "version_major": 2,
       "version_minor": 0
      },
      "text/plain": [
       "Running 1500 simulations in 1500 batches.:   0%|          | 0/1500 [00:00<?, ?it/s]"
      ]
     },
     "metadata": {},
     "output_type": "display_data"
    },
    {
     "data": {
      "application/vnd.jupyter.widget-view+json": {
       "model_id": "6d439cee6d164857a789698d232daa6d",
       "version_major": 2,
       "version_minor": 0
      },
      "text/plain": [
       "Drawing 1500 posterior samples:   0%|          | 0/1500 [00:00<?, ?it/s]"
      ]
     },
     "metadata": {},
     "output_type": "display_data"
    },
    {
     "data": {
      "application/vnd.jupyter.widget-view+json": {
       "model_id": "12b57720e6284278b818182afd392138",
       "version_major": 2,
       "version_minor": 0
      },
      "text/plain": [
       "Running 1500 simulations in 1500 batches.:   0%|          | 0/1500 [00:00<?, ?it/s]"
      ]
     },
     "metadata": {},
     "output_type": "display_data"
    },
    {
     "data": {
      "application/vnd.jupyter.widget-view+json": {
       "model_id": "4218c93e0e1f49a8b62e595ac6d570fa",
       "version_major": 2,
       "version_minor": 0
      },
      "text/plain": [
       "Drawing 1500 posterior samples:   0%|          | 0/1500 [00:00<?, ?it/s]"
      ]
     },
     "metadata": {},
     "output_type": "display_data"
    },
    {
     "data": {
      "application/vnd.jupyter.widget-view+json": {
       "model_id": "6e513c3bc9b64394857f9ade25cce7e1",
       "version_major": 2,
       "version_minor": 0
      },
      "text/plain": [
       "Running 1500 simulations in 1500 batches.:   0%|          | 0/1500 [00:00<?, ?it/s]"
      ]
     },
     "metadata": {},
     "output_type": "display_data"
    },
    {
     "data": {
      "application/vnd.jupyter.widget-view+json": {
       "model_id": "7f8491be89644bc196eea534ecbd75f5",
       "version_major": 2,
       "version_minor": 0
      },
      "text/plain": [
       "Drawing 1500 posterior samples:   0%|          | 0/1500 [00:00<?, ?it/s]"
      ]
     },
     "metadata": {},
     "output_type": "display_data"
    },
    {
     "data": {
      "application/vnd.jupyter.widget-view+json": {
       "model_id": "389a4d7af8e84d83ba93273b549f3970",
       "version_major": 2,
       "version_minor": 0
      },
      "text/plain": [
       "Running 1500 simulations in 1500 batches.:   0%|          | 0/1500 [00:00<?, ?it/s]"
      ]
     },
     "metadata": {},
     "output_type": "display_data"
    },
    {
     "data": {
      "application/vnd.jupyter.widget-view+json": {
       "model_id": "1a8f13c9a3654d52b6d20a5b05969091",
       "version_major": 2,
       "version_minor": 0
      },
      "text/plain": [
       "Drawing 1500 posterior samples:   0%|          | 0/1500 [00:00<?, ?it/s]"
      ]
     },
     "metadata": {},
     "output_type": "display_data"
    },
    {
     "data": {
      "application/vnd.jupyter.widget-view+json": {
       "model_id": "2f99e476ff04492fab32e40ef5840401",
       "version_major": 2,
       "version_minor": 0
      },
      "text/plain": [
       "Running 1500 simulations in 1500 batches.:   0%|          | 0/1500 [00:00<?, ?it/s]"
      ]
     },
     "metadata": {},
     "output_type": "display_data"
    },
    {
     "data": {
      "application/vnd.jupyter.widget-view+json": {
       "model_id": "30aa8afad1b2467c8d2f911e35c90271",
       "version_major": 2,
       "version_minor": 0
      },
      "text/plain": [
       "Drawing 1500 posterior samples:   0%|          | 0/1500 [00:00<?, ?it/s]"
      ]
     },
     "metadata": {},
     "output_type": "display_data"
    },
    {
     "data": {
      "application/vnd.jupyter.widget-view+json": {
       "model_id": "5f5b4f31d77045c8a0b2c53d0d5a1ec7",
       "version_major": 2,
       "version_minor": 0
      },
      "text/plain": [
       "Running 1500 simulations in 1500 batches.:   0%|          | 0/1500 [00:00<?, ?it/s]"
      ]
     },
     "metadata": {},
     "output_type": "display_data"
    },
    {
     "data": {
      "application/vnd.jupyter.widget-view+json": {
       "model_id": "1412d29505fc4ba4b36c0b4d63ed03ad",
       "version_major": 2,
       "version_minor": 0
      },
      "text/plain": [
       "Drawing 1500 posterior samples:   0%|          | 0/1500 [00:00<?, ?it/s]"
      ]
     },
     "metadata": {},
     "output_type": "display_data"
    },
    {
     "data": {
      "application/vnd.jupyter.widget-view+json": {
       "model_id": "e9af33b6be7c40348b53ce9f5d1a6a4d",
       "version_major": 2,
       "version_minor": 0
      },
      "text/plain": [
       "Running 1500 simulations in 1500 batches.:   0%|          | 0/1500 [00:00<?, ?it/s]"
      ]
     },
     "metadata": {},
     "output_type": "display_data"
    },
    {
     "data": {
      "application/vnd.jupyter.widget-view+json": {
       "model_id": "499e0dcf0bc94609b5ee8a54c4f9e1ee",
       "version_major": 2,
       "version_minor": 0
      },
      "text/plain": [
       "Drawing 1500 posterior samples:   0%|          | 0/1500 [00:00<?, ?it/s]"
      ]
     },
     "metadata": {},
     "output_type": "display_data"
    },
    {
     "data": {
      "application/vnd.jupyter.widget-view+json": {
       "model_id": "4efc3a62391d42179d71fdf1b2ca79fa",
       "version_major": 2,
       "version_minor": 0
      },
      "text/plain": [
       "Running 1500 simulations in 1500 batches.:   0%|          | 0/1500 [00:00<?, ?it/s]"
      ]
     },
     "metadata": {},
     "output_type": "display_data"
    },
    {
     "data": {
      "application/vnd.jupyter.widget-view+json": {
       "model_id": "8b5d723bbcec4342aca6f0528bc51b6d",
       "version_major": 2,
       "version_minor": 0
      },
      "text/plain": [
       "Drawing 1500 posterior samples:   0%|          | 0/1500 [00:00<?, ?it/s]"
      ]
     },
     "metadata": {},
     "output_type": "display_data"
    },
    {
     "data": {
      "application/vnd.jupyter.widget-view+json": {
       "model_id": "c9c4ab19d1a2418bac57b9fc4b1d4d30",
       "version_major": 2,
       "version_minor": 0
      },
      "text/plain": [
       "Running 1500 simulations in 1500 batches.:   0%|          | 0/1500 [00:00<?, ?it/s]"
      ]
     },
     "metadata": {},
     "output_type": "display_data"
    },
    {
     "data": {
      "application/vnd.jupyter.widget-view+json": {
       "model_id": "d78cea68be4d432d8dba42b48faabcfe",
       "version_major": 2,
       "version_minor": 0
      },
      "text/plain": [
       "Drawing 1500 posterior samples:   0%|          | 0/1500 [00:00<?, ?it/s]"
      ]
     },
     "metadata": {},
     "output_type": "display_data"
    },
    {
     "data": {
      "application/vnd.jupyter.widget-view+json": {
       "model_id": "3f0cd4f751774551857bd1494239525c",
       "version_major": 2,
       "version_minor": 0
      },
      "text/plain": [
       "Running 1500 simulations in 1500 batches.:   0%|          | 0/1500 [00:00<?, ?it/s]"
      ]
     },
     "metadata": {},
     "output_type": "display_data"
    },
    {
     "data": {
      "application/vnd.jupyter.widget-view+json": {
       "model_id": "22c5d044c0d84b8d9517b8c4fe85ae0c",
       "version_major": 2,
       "version_minor": 0
      },
      "text/plain": [
       "Drawing 1500 posterior samples:   0%|          | 0/1500 [00:00<?, ?it/s]"
      ]
     },
     "metadata": {},
     "output_type": "display_data"
    },
    {
     "data": {
      "application/vnd.jupyter.widget-view+json": {
       "model_id": "f2fa278e9c3644e28c75328a0777d104",
       "version_major": 2,
       "version_minor": 0
      },
      "text/plain": [
       "Running 1500 simulations in 1500 batches.:   0%|          | 0/1500 [00:00<?, ?it/s]"
      ]
     },
     "metadata": {},
     "output_type": "display_data"
    },
    {
     "data": {
      "application/vnd.jupyter.widget-view+json": {
       "model_id": "3855a90e8e8446058e6998c77777a755",
       "version_major": 2,
       "version_minor": 0
      },
      "text/plain": [
       "Drawing 1500 posterior samples:   0%|          | 0/1500 [00:00<?, ?it/s]"
      ]
     },
     "metadata": {},
     "output_type": "display_data"
    },
    {
     "data": {
      "application/vnd.jupyter.widget-view+json": {
       "model_id": "543e7a68241946e0b11c777a76a8e8b1",
       "version_major": 2,
       "version_minor": 0
      },
      "text/plain": [
       "Running 1500 simulations in 1500 batches.:   0%|          | 0/1500 [00:00<?, ?it/s]"
      ]
     },
     "metadata": {},
     "output_type": "display_data"
    },
    {
     "data": {
      "application/vnd.jupyter.widget-view+json": {
       "model_id": "3e44c3141d7e4a01b41e8f278b5ce750",
       "version_major": 2,
       "version_minor": 0
      },
      "text/plain": [
       "Drawing 1500 posterior samples:   0%|          | 0/1500 [00:00<?, ?it/s]"
      ]
     },
     "metadata": {},
     "output_type": "display_data"
    },
    {
     "data": {
      "application/vnd.jupyter.widget-view+json": {
       "model_id": "e21fd72a87344801b71eb4b9b8fb54a0",
       "version_major": 2,
       "version_minor": 0
      },
      "text/plain": [
       "Running 1500 simulations in 1500 batches.:   0%|          | 0/1500 [00:00<?, ?it/s]"
      ]
     },
     "metadata": {},
     "output_type": "display_data"
    },
    {
     "data": {
      "application/vnd.jupyter.widget-view+json": {
       "model_id": "f2faaf034875457ebf6e7fee34e1818c",
       "version_major": 2,
       "version_minor": 0
      },
      "text/plain": [
       "Drawing 1500 posterior samples:   0%|          | 0/1500 [00:00<?, ?it/s]"
      ]
     },
     "metadata": {},
     "output_type": "display_data"
    },
    {
     "data": {
      "application/vnd.jupyter.widget-view+json": {
       "model_id": "5bc507cd92644ad7ae9834fc491e3acd",
       "version_major": 2,
       "version_minor": 0
      },
      "text/plain": [
       "Running 1500 simulations in 1500 batches.:   0%|          | 0/1500 [00:00<?, ?it/s]"
      ]
     },
     "metadata": {},
     "output_type": "display_data"
    },
    {
     "data": {
      "application/vnd.jupyter.widget-view+json": {
       "model_id": "2397a972edc04cc482fd2dc5c5736bf5",
       "version_major": 2,
       "version_minor": 0
      },
      "text/plain": [
       "Drawing 1500 posterior samples:   0%|          | 0/1500 [00:00<?, ?it/s]"
      ]
     },
     "metadata": {},
     "output_type": "display_data"
    },
    {
     "data": {
      "application/vnd.jupyter.widget-view+json": {
       "model_id": "085b9a8d7b8a4d2d9bf079af47b8c1fd",
       "version_major": 2,
       "version_minor": 0
      },
      "text/plain": [
       "Running 1500 simulations in 1500 batches.:   0%|          | 0/1500 [00:00<?, ?it/s]"
      ]
     },
     "metadata": {},
     "output_type": "display_data"
    }
   ],
   "source": [
    "band_name = \"beta_l\"\n",
    "band_idx = paras.fc_types.index(band_name)\n",
    "\n",
    "res_fils = paras.dirs[band_name].glob(\"ind*.pkl\")\n",
    "_sorted_fn = lambda x: int(x.stem.split(\"ind\")[-1][:])\n",
    "sorted_fils = sorted(res_fils, key=_sorted_fn)\n",
    "\n",
    "for cur_idx in range(36):\n",
    "    brain = Brain.Brain()\n",
    "    brain.add_connectome(DATA_ROOT) # grabs distance matrix\n",
    "    brain.reorder_connectome(brain.connectome, brain.distance_matrix)\n",
    "    brain.connectome =  ind_conn[:, :, cur_idx] # re-assign connectome to individual connectome\n",
    "    brain.bi_symmetric_c()\n",
    "    brain.reduce_extreme_dir()\n",
    "    \n",
    "    _simulate_data_sp = partial(_simulate_data, \n",
    "                                brain=brain, \n",
    "                                prior_bds=paras.prior_bds, \n",
    "                                freqrange=paras.freqranges[band_idx])\n",
    "    _simulate_data_wrapper, _ = prepare_for_sbi(_simulate_data_sp, prior)\n",
    "    \n",
    "    cur_posterior = load_pkl(sorted_fils[cur_idx], False)\n",
    "    cur_paras_raw, cur_post_fcs = simulate_for_sbi(_simulate_data_wrapper, cur_posterior,\n",
    "                                        num_simulations=1500, \n",
    "                                        num_workers=50)\n",
    "    cur_paras_raw, cur_post_fcs = _filter_unstable(cur_paras_raw, paras.prior_bds, cur_post_fcs)\n",
    "    cur_paras_raw, cur_post_fcs = cur_paras_raw[:1000, :], cur_post_fcs[:1000, :]\n",
    "    \n",
    "    cur_paras = _theta_raw_2out(cur_paras_raw.numpy(), paras.prior_bds)\n",
    "    np.savetxt(paras.dirs.out_dir/f\"{band_name}/SGM_params_ind{cur_idx+1:02.0f}_{band_name}.txt\", \n",
    "                   cur_paras)\n",
    "    \n",
    "    cur_post_fcs = cur_post_fcs.reshape(-1, 68, 68)\n",
    "    cur_est_FC = np.abs(cur_post_fcs.mean(axis=0).numpy())\n",
    "    np.savetxt(paras.dirs.out_dir/f\"{band_name}/est_FC_ind{cur_idx+1:02.0f}_{band_name}.txt\", \n",
    "              cur_est_FC)"
   ]
  },
  {
   "cell_type": "code",
   "execution_count": null,
   "id": "0b71f6ad",
   "metadata": {},
   "outputs": [],
   "source": []
  }
 ],
 "metadata": {
  "kernelspec": {
   "display_name": "Python 3 (ipykernel)",
   "language": "python",
   "name": "python3"
  },
  "language_info": {
   "codemirror_mode": {
    "name": "ipython",
    "version": 3
   },
   "file_extension": ".py",
   "mimetype": "text/x-python",
   "name": "python",
   "nbconvert_exporter": "python",
   "pygments_lexer": "ipython3",
   "version": "3.9.7"
  },
  "toc": {
   "base_numbering": 1,
   "nav_menu": {},
   "number_sections": true,
   "sideBar": true,
   "skip_h1_title": false,
   "title_cell": "Table of Contents",
   "title_sidebar": "Contents",
   "toc_cell": false,
   "toc_position": {},
   "toc_section_display": true,
   "toc_window_display": true
  }
 },
 "nbformat": 4,
 "nbformat_minor": 5
}
