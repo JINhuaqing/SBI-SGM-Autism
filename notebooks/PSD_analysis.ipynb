{
 "cells": [
  {
   "cell_type": "markdown",
   "id": "9e8d0568",
   "metadata": {},
   "source": [
    "This file is to analyze the PSD estimated from matlab code.    "
   ]
  },
  {
   "cell_type": "code",
   "execution_count": 54,
   "id": "ef3fc76c",
   "metadata": {
    "ExecuteTime": {
     "end_time": "2023-02-06T04:53:53.958053Z",
     "start_time": "2023-02-06T04:53:53.951422Z"
    }
   },
   "outputs": [],
   "source": [
    "import sys\n",
    "sys.path.append(\"../mypkg\")\n",
    "\n",
    "import scipy\n",
    "import numpy as np\n",
    "import pandas as pd\n",
    "import matplotlib.pyplot as plt\n",
    "import seaborn as sns\n",
    "\n",
    "from tqdm import trange\n",
    "from scipy.io import loadmat\n",
    "from functools import partial\n",
    "from easydict import EasyDict as edict\n",
    "\n",
    "plt.style.use('ggplot')"
   ]
  },
  {
   "cell_type": "code",
   "execution_count": 2,
   "id": "f3cb69fb",
   "metadata": {
    "ExecuteTime": {
     "end_time": "2023-02-06T04:41:31.102352Z",
     "start_time": "2023-02-06T04:41:31.098143Z"
    }
   },
   "outputs": [],
   "source": [
    "from constants import DATA_ROOT"
   ]
  },
  {
   "cell_type": "code",
   "execution_count": 88,
   "id": "b54911ae",
   "metadata": {
    "ExecuteTime": {
     "end_time": "2023-02-06T05:16:21.534718Z",
     "start_time": "2023-02-06T05:16:21.499686Z"
    }
   },
   "outputs": [],
   "source": [
    "all_MEG_psd_p = DATA_ROOT/\"MEG_DK_Atlas/Autism_MEG_all_PSD.mat\"\n",
    "all_MEG_psd = loadmat(all_MEG_psd_p)\n",
    "freqs = all_MEG_psd[\"data_1\"][0, 0][1].reshape(-1)"
   ]
  },
  {
   "cell_type": "code",
   "execution_count": 114,
   "id": "75b0e36b",
   "metadata": {
    "ExecuteTime": {
     "end_time": "2023-02-06T05:28:03.904090Z",
     "start_time": "2023-02-06T05:28:03.858808Z"
    }
   },
   "outputs": [
    {
     "data": {
      "text/html": [
       "<div>\n",
       "<style scoped>\n",
       "    .dataframe tbody tr th:only-of-type {\n",
       "        vertical-align: middle;\n",
       "    }\n",
       "\n",
       "    .dataframe tbody tr th {\n",
       "        vertical-align: top;\n",
       "    }\n",
       "\n",
       "    .dataframe thead tr th {\n",
       "        text-align: left;\n",
       "    }\n",
       "\n",
       "    .dataframe thead tr:last-of-type th {\n",
       "        text-align: right;\n",
       "    }\n",
       "</style>\n",
       "<table border=\"1\" class=\"dataframe\">\n",
       "  <thead>\n",
       "    <tr>\n",
       "      <th></th>\n",
       "      <th colspan=\"8\" halign=\"left\">ID</th>\n",
       "      <th colspan=\"8\" halign=\"left\">Age</th>\n",
       "    </tr>\n",
       "    <tr>\n",
       "      <th></th>\n",
       "      <th>count</th>\n",
       "      <th>mean</th>\n",
       "      <th>std</th>\n",
       "      <th>min</th>\n",
       "      <th>25%</th>\n",
       "      <th>50%</th>\n",
       "      <th>75%</th>\n",
       "      <th>max</th>\n",
       "      <th>count</th>\n",
       "      <th>mean</th>\n",
       "      <th>std</th>\n",
       "      <th>min</th>\n",
       "      <th>25%</th>\n",
       "      <th>50%</th>\n",
       "      <th>75%</th>\n",
       "      <th>max</th>\n",
       "    </tr>\n",
       "    <tr>\n",
       "      <th>Diagnosis</th>\n",
       "      <th></th>\n",
       "      <th></th>\n",
       "      <th></th>\n",
       "      <th></th>\n",
       "      <th></th>\n",
       "      <th></th>\n",
       "      <th></th>\n",
       "      <th></th>\n",
       "      <th></th>\n",
       "      <th></th>\n",
       "      <th></th>\n",
       "      <th></th>\n",
       "      <th></th>\n",
       "      <th></th>\n",
       "      <th></th>\n",
       "      <th></th>\n",
       "    </tr>\n",
       "  </thead>\n",
       "  <tbody>\n",
       "    <tr>\n",
       "      <th>0</th>\n",
       "      <td>29.0</td>\n",
       "      <td>114.172414</td>\n",
       "      <td>67.587017</td>\n",
       "      <td>3.0</td>\n",
       "      <td>60.0</td>\n",
       "      <td>131.0</td>\n",
       "      <td>164.0</td>\n",
       "      <td>225.0</td>\n",
       "      <td>29.0</td>\n",
       "      <td>12.020115</td>\n",
       "      <td>2.586562</td>\n",
       "      <td>8.000000</td>\n",
       "      <td>10.166667</td>\n",
       "      <td>11.416667</td>\n",
       "      <td>13.166667</td>\n",
       "      <td>16.833334</td>\n",
       "    </tr>\n",
       "    <tr>\n",
       "      <th>1</th>\n",
       "      <td>49.0</td>\n",
       "      <td>76.408163</td>\n",
       "      <td>51.796444</td>\n",
       "      <td>2.0</td>\n",
       "      <td>36.0</td>\n",
       "      <td>73.0</td>\n",
       "      <td>100.0</td>\n",
       "      <td>223.0</td>\n",
       "      <td>49.0</td>\n",
       "      <td>12.275510</td>\n",
       "      <td>2.608646</td>\n",
       "      <td>8.083333</td>\n",
       "      <td>10.166667</td>\n",
       "      <td>12.083333</td>\n",
       "      <td>14.416667</td>\n",
       "      <td>17.000000</td>\n",
       "    </tr>\n",
       "  </tbody>\n",
       "</table>\n",
       "</div>"
      ],
      "text/plain": [
       "             ID                                                          Age  \\\n",
       "          count        mean        std  min   25%    50%    75%    max count   \n",
       "Diagnosis                                                                      \n",
       "0          29.0  114.172414  67.587017  3.0  60.0  131.0  164.0  225.0  29.0   \n",
       "1          49.0   76.408163  51.796444  2.0  36.0   73.0  100.0  223.0  49.0   \n",
       "\n",
       "                                                                           \\\n",
       "                mean       std       min        25%        50%        75%   \n",
       "Diagnosis                                                                   \n",
       "0          12.020115  2.586562  8.000000  10.166667  11.416667  13.166667   \n",
       "1          12.275510  2.608646  8.083333  10.166667  12.083333  14.416667   \n",
       "\n",
       "                      \n",
       "                 max  \n",
       "Diagnosis             \n",
       "0          16.833334  \n",
       "1          17.000000  "
      ]
     },
     "execution_count": 114,
     "metadata": {},
     "output_type": "execute_result"
    }
   ],
   "source": [
    "data_info_path = DATA_ROOT/'Autism_Demopoulos_DiagnosisAgeSex.csv'\n",
    "data_info = pd.read_csv(data_info_path)\n",
    "data_info.groupby([\"Diagnosis\"]).describe()"
   ]
  },
  {
   "cell_type": "code",
   "execution_count": 117,
   "id": "ad4f4a09",
   "metadata": {
    "ExecuteTime": {
     "end_time": "2023-02-06T05:28:19.395527Z",
     "start_time": "2023-02-06T05:28:19.385702Z"
    }
   },
   "outputs": [
    {
     "data": {
      "text/plain": [
       "Ttest_indResult(statistic=0.41917985848954165, pvalue=0.6762671212642949)"
      ]
     },
     "execution_count": 117,
     "metadata": {},
     "output_type": "execute_result"
    }
   ],
   "source": [
    "age_test = scipy.stats.ttest_ind(data_info[data_info[\"Diagnosis\"] == 1][\"Age\"],\n",
    "                      data_info[data_info[\"Diagnosis\"] == 0][\"Age\"])\n",
    "age_test"
   ]
  },
  {
   "cell_type": "code",
   "execution_count": 115,
   "id": "b29bf17f",
   "metadata": {
    "ExecuteTime": {
     "end_time": "2023-02-06T05:28:05.389914Z",
     "start_time": "2023-02-06T05:28:05.360928Z"
    }
   },
   "outputs": [
    {
     "name": "stdout",
     "output_type": "stream",
     "text": [
      "(2.236842105263158, 0.1047549902043315)\n"
     ]
    },
    {
     "data": {
      "text/html": [
       "<div>\n",
       "<style scoped>\n",
       "    .dataframe tbody tr th:only-of-type {\n",
       "        vertical-align: middle;\n",
       "    }\n",
       "\n",
       "    .dataframe tbody tr th {\n",
       "        vertical-align: top;\n",
       "    }\n",
       "\n",
       "    .dataframe thead th {\n",
       "        text-align: right;\n",
       "    }\n",
       "</style>\n",
       "<table border=\"1\" class=\"dataframe\">\n",
       "  <thead>\n",
       "    <tr style=\"text-align: right;\">\n",
       "      <th>Diagnosis</th>\n",
       "      <th>0</th>\n",
       "      <th>1</th>\n",
       "    </tr>\n",
       "    <tr>\n",
       "      <th>Sex</th>\n",
       "      <th></th>\n",
       "      <th></th>\n",
       "    </tr>\n",
       "  </thead>\n",
       "  <tbody>\n",
       "    <tr>\n",
       "      <th>F</th>\n",
       "      <td>17</td>\n",
       "      <td>19</td>\n",
       "    </tr>\n",
       "    <tr>\n",
       "      <th>M</th>\n",
       "      <td>12</td>\n",
       "      <td>30</td>\n",
       "    </tr>\n",
       "  </tbody>\n",
       "</table>\n",
       "</div>"
      ],
      "text/plain": [
       "Diagnosis   0   1\n",
       "Sex              \n",
       "F          17  19\n",
       "M          12  30"
      ]
     },
     "execution_count": 115,
     "metadata": {},
     "output_type": "execute_result"
    }
   ],
   "source": [
    "tab = pd.crosstab(data_info[\"Sex\"], data_info[\"Diagnosis\"])\n",
    "print(scipy.stats.fisher_exact(tab))\n",
    "tab"
   ]
  },
  {
   "cell_type": "code",
   "execution_count": 92,
   "id": "89a8f7f6",
   "metadata": {
    "ExecuteTime": {
     "end_time": "2023-02-06T05:17:12.473453Z",
     "start_time": "2023-02-06T05:17:12.460947Z"
    }
   },
   "outputs": [],
   "source": [
    "psd_dbs = []\n",
    "for ix in range(78):\n",
    "    psd_dbs.append(20*np.log10(all_MEG_psd[f\"data_{ix+1}\"][0, 0][0]))\n",
    "psd_dbs = np.array(psd_dbs)"
   ]
  },
  {
   "cell_type": "code",
   "execution_count": 93,
   "id": "134019cd",
   "metadata": {
    "ExecuteTime": {
     "end_time": "2023-02-06T05:17:13.718914Z",
     "start_time": "2023-02-06T05:17:13.713382Z"
    }
   },
   "outputs": [],
   "source": [
    "exp_grp_psd_dbs = psd_dbs[data_info[\"Diagnosis\"] == 1]\n",
    "ctrl_grp_psd_dbs = psd_dbs[data_info[\"Diagnosis\"] == 0]"
   ]
  },
  {
   "cell_type": "code",
   "execution_count": 95,
   "id": "2ab24c00",
   "metadata": {
    "ExecuteTime": {
     "end_time": "2023-02-06T05:18:51.407738Z",
     "start_time": "2023-02-06T05:18:51.306568Z"
    }
   },
   "outputs": [
    {
     "data": {
      "text/plain": [
       "<matplotlib.legend.Legend at 0x7fc1089c8f40>"
      ]
     },
     "execution_count": 95,
     "metadata": {},
     "output_type": "execute_result"
    },
    {
     "data": {
      "image/png": "[encoded data removed]",
      "text/plain": [
       "<Figure size 432x288 with 1 Axes>"
      ]
     },
     "metadata": {},
     "output_type": "display_data"
    }
   ],
   "source": [
    "plt.plot(freqs, exp_grp_psd_dbs.mean(axis=(0, 1)), label=\"ASD\")\n",
    "plt.plot(freqs, ctrl_grp_psd_dbs.mean(axis=(0, 1)), label=\"Ctrl\")\n",
    "plt.legend()"
   ]
  },
  {
   "cell_type": "code",
   "execution_count": null,
   "id": "0f440d19",
   "metadata": {},
   "outputs": [],
   "source": []
  }
 ],
 "metadata": {
  "kernelspec": {
   "display_name": "Python 3 (ipykernel)",
   "language": "python",
   "name": "python3"
  },
  "language_info": {
   "codemirror_mode": {
    "name": "ipython",
    "version": 3
   },
   "file_extension": ".py",
   "mimetype": "text/x-python",
   "name": "python",
   "nbconvert_exporter": "python",
   "pygments_lexer": "ipython3",
   "version": "3.9.7"
  },
  "toc": {
   "base_numbering": 1,
   "nav_menu": {},
   "number_sections": true,
   "sideBar": true,
   "skip_h1_title": false,
   "title_cell": "Table of Contents",
   "title_sidebar": "Contents",
   "toc_cell": false,
   "toc_position": {},
   "toc_section_display": true,
   "toc_window_display": false
  }
 },
 "nbformat": 4,
 "nbformat_minor": 5
}
